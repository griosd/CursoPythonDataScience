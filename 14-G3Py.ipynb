{
 "cells": [
  {
   "cell_type": "markdown",
   "metadata": {},
   "source": [
    "# G3Py: Generalized Graphical Gaussian Processes in Python\n",
    "\n",
    "## Imports and Sunspots Dataset"
   ]
  },
  {
   "cell_type": "code",
   "execution_count": null,
   "metadata": {
    "ExecuteTime": {
     "end_time": "2017-09-13T23:30:03.430692Z",
     "start_time": "2017-09-13T23:30:01.597479Z"
    }
   },
   "outputs": [],
   "source": [
    "%reload_ext autoreload\n",
    "%autoreload 2\n",
    "%matplotlib inline\n",
    "\n",
    "import numpy as np\n",
    "import pandas as pd\n",
    "import g3py as g3\n",
    "import pymc3 as pm\n",
    "import theano as th\n",
    "import theano.tensor as tt\n",
    "\n",
    "g3.style_normal()\n",
    "g3.style_widget()\n",
    "\n",
    "psamples = 0.1\n",
    "data = 'subspots'\n",
    "\n",
    "\n",
    "if data == 'subspots':\n",
    "    x, y = g3.data_sunspots()\n",
    "else:\n",
    "    x, y = g3.data_heart()\n",
    "\n",
    "\n",
    "obs_j, x_obs, y_obs, test_j, x_test, y_test = g3.random_obs(x, y, psamples, plot=True)"
   ]
  },
  {
   "cell_type": "markdown",
   "metadata": {},
   "source": [
    "## Define Prior Distribution"
   ]
  },
  {
   "cell_type": "code",
   "execution_count": null,
   "metadata": {
    "ExecuteTime": {
     "end_time": "2017-09-13T23:30:59.513411Z",
     "start_time": "2017-09-13T23:30:51.975011Z"
    },
    "scrolled": false
   },
   "outputs": [],
   "source": [
    "gp = g3.GaussianProcess(space=x, location=g3.Bias(), kernel=g3.SE(), noisy=True)\n",
    "gp.describe('Sunspots', 'YEAR', 'SUNACTIVITY')\n",
    "gp.plot(samples=5)\n",
    "g3.print(gp.params, gp.logp(gp.params))"
   ]
  },
  {
   "cell_type": "markdown",
   "metadata": {},
   "source": [
    "## Default Posterior Distribution, given observations (automatic parameters)"
   ]
  },
  {
   "cell_type": "code",
   "execution_count": null,
   "metadata": {
    "ExecuteTime": {
     "end_time": "2017-09-13T23:31:53.210737Z",
     "start_time": "2017-09-13T23:31:48.727656Z"
    }
   },
   "outputs": [],
   "source": [
    "gp.observed(inputs=x_obs, outputs=y_obs, hidden=y)\n",
    "gp.plot(samples=5)\n",
    "g3.print(gp.params, gp.logp(gp.params), gp.scores(gp.params))"
   ]
  },
  {
   "cell_type": "markdown",
   "metadata": {},
   "source": [
    "## Manual Search of parameters"
   ]
  },
  {
   "cell_type": "code",
   "execution_count": null,
   "metadata": {
    "ExecuteTime": {
     "end_time": "2017-09-13T23:32:10.985194Z",
     "start_time": "2017-09-13T23:32:10.848152Z"
    }
   },
   "outputs": [],
   "source": [
    "gp.widget(samples=5)"
   ]
  },
  {
   "cell_type": "markdown",
   "metadata": {},
   "source": [
    "## Change style and get widget params"
   ]
  },
  {
   "cell_type": "code",
   "execution_count": null,
   "metadata": {
    "ExecuteTime": {
     "end_time": "2017-09-13T23:32:56.214071Z",
     "start_time": "2017-09-13T23:32:55.655342Z"
    }
   },
   "outputs": [],
   "source": [
    "g3.style_big_seaborn()\n",
    "gp.plot(gp.params_widget, samples=5)\n",
    "#gp.eval_params(gp.params_widget)"
   ]
  },
  {
   "cell_type": "markdown",
   "metadata": {},
   "source": [
    "## Default find_MAP with derivative methods and free-derivative methods"
   ]
  },
  {
   "cell_type": "code",
   "execution_count": null,
   "metadata": {
    "ExecuteTime": {
     "end_time": "2017-09-13T23:33:05.934998Z",
     "start_time": "2017-09-13T23:33:05.697825Z"
    },
    "scrolled": false
   },
   "outputs": [],
   "source": [
    "params_map = gp.find_MAP(points=2)"
   ]
  },
  {
   "cell_type": "code",
   "execution_count": null,
   "metadata": {
    "ExecuteTime": {
     "end_time": "2017-09-13T23:33:32.800778Z",
     "start_time": "2017-09-13T23:33:31.594915Z"
    }
   },
   "outputs": [],
   "source": [
    "#g3.print(gp.eval_params(params_map))\n",
    "gp.plot(params_map, samples=5, prior=True, title='Prior')\n",
    "g3.show()\n",
    "gp.plot(params_map, samples=5, title='Posterior')\n",
    "g3.show()"
   ]
  },
  {
   "cell_type": "markdown",
   "metadata": {},
   "source": [
    "## Find MAP from random points"
   ]
  },
  {
   "cell_type": "code",
   "execution_count": null,
   "metadata": {
    "ExecuteTime": {
     "end_time": "2017-09-13T23:33:47.743222Z",
     "start_time": "2017-09-13T23:33:43.581795Z"
    },
    "scrolled": false
   },
   "outputs": [],
   "source": [
    "for k in range(5):\n",
    "    init_params = gp.params_random(gp.params_widget, sigma=0.2)\n",
    "    params = gp.find_MAP(init_params, points=2, display=False)\n",
    "    #g3.print(gp.eval_params(params))\n",
    "    gp.plot(params, samples=5)\n",
    "    g3.show()"
   ]
  },
  {
   "cell_type": "markdown",
   "metadata": {},
   "source": [
    "## Get prediction and custom plot"
   ]
  },
  {
   "cell_type": "code",
   "execution_count": null,
   "metadata": {
    "ExecuteTime": {
     "end_time": "2017-09-13T23:34:09.698694Z",
     "start_time": "2017-09-13T23:34:08.825226Z"
    }
   },
   "outputs": [],
   "source": [
    "prediction = gp.predict(params, samples=20)\n",
    "mu, std, samples = prediction.mean, prediction.std, prediction.samples\n",
    "g3.plot(samples, alpha=0.5)\n",
    "g3.plot(mu, 'r', label='mean')\n",
    "g3.plot(mu + 2*std, '--k', label='4 std')\n",
    "g3.plot(mu - 2*std, '--k')\n",
    "g3.plot_text('Example GP', 'Time', 'Measure')\n",
    "g3.plot_save('images/gp_sunspots3.pdf')"
   ]
  },
  {
   "cell_type": "markdown",
   "metadata": {},
   "source": [
    "# Sampling Hyperparameters with Ensemble MCMC"
   ]
  },
  {
   "cell_type": "code",
   "execution_count": null,
   "metadata": {
    "ExecuteTime": {
     "end_time": "2017-09-13T23:35:48.666551Z",
     "start_time": "2017-09-13T23:35:12.376962Z"
    },
    "scrolled": true
   },
   "outputs": [],
   "source": [
    "datatrace = gp.sample_hypers(start=params, samples=10000, chains=10)\n",
    "datatrace"
   ]
  },
  {
   "cell_type": "markdown",
   "metadata": {},
   "source": [
    "## Convergence Diagnostics"
   ]
  },
  {
   "cell_type": "code",
   "execution_count": null,
   "metadata": {
    "ExecuteTime": {
     "end_time": "2017-09-13T23:36:29.181690Z",
     "start_time": "2017-09-13T23:36:26.088429Z"
    },
    "scrolled": false
   },
   "outputs": [],
   "source": [
    "g3.style_seaborn()\n",
    "g3.plot_datatrace(datatrace)"
   ]
  },
  {
   "cell_type": "markdown",
   "metadata": {},
   "source": [
    "## Plot Marginals and reference parameters"
   ]
  },
  {
   "cell_type": "code",
   "execution_count": null,
   "metadata": {
    "ExecuteTime": {
     "end_time": "2017-09-13T23:36:48.316167Z",
     "start_time": "2017-09-13T23:36:43.253388Z"
    }
   },
   "outputs": [],
   "source": [
    "g3.hist_datatrace(datatrace, reference=gp.eval_params(params))"
   ]
  },
  {
   "cell_type": "markdown",
   "metadata": {},
   "source": [
    "## Clustering of parameters and plot Bivariate distributions"
   ]
  },
  {
   "cell_type": "code",
   "execution_count": null,
   "metadata": {
    "ExecuteTime": {
     "end_time": "2017-09-13T23:37:26.141926Z",
     "start_time": "2017-09-13T23:37:09.742404Z"
    }
   },
   "outputs": [],
   "source": [
    "g3.cluster_datatrace(gp, datatrace)"
   ]
  },
  {
   "cell_type": "code",
   "execution_count": null,
   "metadata": {
    "ExecuteTime": {
     "end_time": "2017-09-13T23:38:52.266999Z",
     "start_time": "2017-09-13T23:37:27.749997Z"
    },
    "scrolled": false
   },
   "outputs": [],
   "source": [
    "g3.scatter_datatrace(datatrace)"
   ]
  },
  {
   "cell_type": "markdown",
   "metadata": {},
   "source": [
    "## Model Selection"
   ]
  },
  {
   "cell_type": "code",
   "execution_count": null,
   "metadata": {
    "ExecuteTime": {
     "end_time": "2017-09-13T23:40:05.057011Z",
     "start_time": "2017-09-13T23:40:04.975150Z"
    }
   },
   "outputs": [],
   "source": [
    "candidates = g3.find_candidates(datatrace, ll=1, by_cluster=True)\n",
    "candidates"
   ]
  },
  {
   "cell_type": "code",
   "execution_count": null,
   "metadata": {
    "ExecuteTime": {
     "end_time": "2017-09-13T23:40:15.881022Z",
     "start_time": "2017-09-13T23:40:13.409853Z"
    },
    "scrolled": false
   },
   "outputs": [],
   "source": [
    "gp.plot_datatrace(candidates)"
   ]
  },
  {
   "cell_type": "code",
   "execution_count": null,
   "metadata": {
    "ExecuteTime": {
     "end_time": "2017-09-13T23:41:14.356350Z",
     "start_time": "2017-09-13T23:41:13.588108Z"
    }
   },
   "outputs": [],
   "source": [
    "gp.plot_datatrace(candidates, overlap=True, limit=5, var=False, noise=False, samples=0, data=False, loc=True)"
   ]
  },
  {
   "cell_type": "markdown",
   "metadata": {},
   "source": [
    "## Model Average"
   ]
  },
  {
   "cell_type": "code",
   "execution_count": null,
   "metadata": {
    "ExecuteTime": {
     "end_time": "2017-09-13T23:41:22.377686Z",
     "start_time": "2017-09-13T23:41:21.996474Z"
    }
   },
   "outputs": [],
   "source": [
    "average = gp.average(candidates, quantiles=True, quantiles_noise=True)\n",
    "average"
   ]
  },
  {
   "cell_type": "code",
   "execution_count": null,
   "metadata": {
    "ExecuteTime": {
     "end_time": "2017-09-13T23:41:32.651328Z",
     "start_time": "2017-09-13T23:41:32.275092Z"
    }
   },
   "outputs": [],
   "source": [
    "gp.plot(values=average)"
   ]
  },
  {
   "cell_type": "markdown",
   "metadata": {},
   "source": [
    "## Sampling Particles"
   ]
  },
  {
   "cell_type": "code",
   "execution_count": null,
   "metadata": {
    "ExecuteTime": {
     "end_time": "2017-09-13T23:41:41.495699Z",
     "start_time": "2017-09-13T23:41:40.576410Z"
    }
   },
   "outputs": [],
   "source": [
    "particles = gp.particles(candidates, nsamples=25)\n",
    "g3.plot(particles, alpha=0.5)"
   ]
  },
  {
   "cell_type": "code",
   "execution_count": null,
   "metadata": {
    "ExecuteTime": {
     "end_time": "2017-09-13T23:41:44.481781Z",
     "start_time": "2017-09-13T23:41:44.059996Z"
    }
   },
   "outputs": [],
   "source": [
    "g3.plot(particles.mean(axis=1), label='Particles Mean')\n",
    "gp.plot(values=average)"
   ]
  },
  {
   "cell_type": "markdown",
   "metadata": {},
   "source": [
    "## Conditional and Marginal Datatrace as Empirical Distribution"
   ]
  },
  {
   "cell_type": "code",
   "execution_count": null,
   "metadata": {
    "ExecuteTime": {
     "end_time": "2017-09-13T23:42:09.250278Z",
     "start_time": "2017-09-13T23:41:55.236210Z"
    },
    "scrolled": true
   },
   "outputs": [],
   "source": [
    "selected = g3.conditional_datatrace(datatrace, lambda df: df._ll > df._ll.quantile(0.9))\n",
    "selected = g3.marginal_datatrace(selected, drop='_cluster')\n",
    "g3.scatter_datatrace(selected)"
   ]
  },
  {
   "cell_type": "markdown",
   "metadata": {},
   "source": [
    "## Kernel Density Estimation of Datatrace for sampling"
   ]
  },
  {
   "cell_type": "code",
   "execution_count": null,
   "metadata": {
    "ExecuteTime": {
     "end_time": "2017-09-13T23:43:50.623255Z",
     "start_time": "2017-09-13T23:43:41.017809Z"
    },
    "scrolled": false
   },
   "outputs": [],
   "source": [
    "kde = g3.datatrace_to_kde(gp, selected)\n",
    "models = g3.kde_to_datatrace(gp, kde, nsamples=25)\n",
    "models = g3.marginal_datatrace(models, drop='_cluster')\n",
    "g3.scatter_datatrace(models)"
   ]
  },
  {
   "cell_type": "code",
   "execution_count": null,
   "metadata": {
    "ExecuteTime": {
     "end_time": "2017-09-13T23:43:58.380428Z",
     "start_time": "2017-09-13T23:43:55.341344Z"
    }
   },
   "outputs": [],
   "source": [
    "average = gp.average(models, quantiles=True, quantiles_noise=True)\n",
    "particles = gp.particles(models)\n",
    "\n",
    "g3.plot(average.mean, label='Average Mean')\n",
    "g3.plot(particles.mean(axis=1), label='Particles Mean')\n",
    "gp.plot(params_map)\n",
    "g3.plot(particles, alpha=0.1)"
   ]
  }
 ],
 "metadata": {
  "kernelspec": {
   "display_name": "Python 3",
   "language": "python",
   "name": "python3"
  },
  "language_info": {
   "codemirror_mode": {
    "name": "ipython",
    "version": 3
   },
   "file_extension": ".py",
   "mimetype": "text/x-python",
   "name": "python",
   "nbconvert_exporter": "python",
   "pygments_lexer": "ipython3",
   "version": "3.5.3"
  }
 },
 "nbformat": 4,
 "nbformat_minor": 2
}
