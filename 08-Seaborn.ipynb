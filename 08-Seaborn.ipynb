{
 "cells": [
  {
   "cell_type": "markdown",
   "metadata": {},
   "source": [
    "# Seaborn: A Statistical Data Visualization Package\n",
    "## Styles"
   ]
  },
  {
   "cell_type": "code",
   "execution_count": null,
   "metadata": {
    "ExecuteTime": {
     "end_time": "2019-01-17T17:49:42.118442Z",
     "start_time": "2019-01-17T17:49:41.807297Z"
    }
   },
   "outputs": [],
   "source": [
    "%matplotlib inline\n",
    "import numpy as np\n",
    "import scipy as sp\n",
    "import matplotlib.pyplot as plt\n",
    "\n",
    "def sinplot(flip=1):\n",
    "    x = np.linspace(0, 14, 100)\n",
    "    for i in range(1, 7):\n",
    "        plt.plot(x, np.sin(x + i * .5) * (7 - i) * flip)\n",
    "        \n",
    "sinplot()"
   ]
  },
  {
   "cell_type": "code",
   "execution_count": null,
   "metadata": {
    "ExecuteTime": {
     "end_time": "2019-01-17T17:49:50.940877Z",
     "start_time": "2019-01-17T17:49:50.634979Z"
    }
   },
   "outputs": [],
   "source": [
    "import seaborn as sb\n",
    "sb.set()"
   ]
  },
  {
   "cell_type": "code",
   "execution_count": null,
   "metadata": {
    "ExecuteTime": {
     "end_time": "2019-01-17T17:49:51.101973Z",
     "start_time": "2019-01-17T17:49:50.942852Z"
    }
   },
   "outputs": [],
   "source": [
    "sinplot()"
   ]
  },
  {
   "cell_type": "code",
   "execution_count": null,
   "metadata": {
    "ExecuteTime": {
     "end_time": "2019-01-17T17:49:51.278132Z",
     "start_time": "2019-01-17T17:49:51.161167Z"
    }
   },
   "outputs": [],
   "source": [
    "sb.set_style(\"whitegrid\")\n",
    "sinplot()"
   ]
  },
  {
   "cell_type": "code",
   "execution_count": null,
   "metadata": {
    "ExecuteTime": {
     "end_time": "2019-01-17T17:49:51.474879Z",
     "start_time": "2019-01-17T17:49:51.371187Z"
    }
   },
   "outputs": [],
   "source": [
    "sb.set_style(\"dark\")\n",
    "sinplot()"
   ]
  },
  {
   "cell_type": "code",
   "execution_count": null,
   "metadata": {
    "ExecuteTime": {
     "end_time": "2019-01-17T17:49:51.733921Z",
     "start_time": "2019-01-17T17:49:51.617340Z"
    }
   },
   "outputs": [],
   "source": [
    "sb.set_style(\"white\")\n",
    "sinplot()"
   ]
  },
  {
   "cell_type": "code",
   "execution_count": null,
   "metadata": {
    "ExecuteTime": {
     "end_time": "2019-01-17T17:49:52.023626Z",
     "start_time": "2019-01-17T17:49:51.907047Z"
    }
   },
   "outputs": [],
   "source": [
    "sb.set_style(\"ticks\")\n",
    "sinplot()"
   ]
  },
  {
   "cell_type": "code",
   "execution_count": null,
   "metadata": {
    "ExecuteTime": {
     "end_time": "2019-01-17T17:49:52.228573Z",
     "start_time": "2019-01-17T17:49:52.121022Z"
    }
   },
   "outputs": [],
   "source": [
    "sinplot()\n",
    "sb.despine(offset=10, trim=True)"
   ]
  },
  {
   "cell_type": "code",
   "execution_count": null,
   "metadata": {
    "ExecuteTime": {
     "end_time": "2019-01-17T17:49:52.423707Z",
     "start_time": "2019-01-17T17:49:52.309697Z"
    }
   },
   "outputs": [],
   "source": [
    "sb.set_style(\"whitegrid\")\n",
    "sinplot()\n",
    "sb.despine(left=False)"
   ]
  },
  {
   "cell_type": "code",
   "execution_count": null,
   "metadata": {
    "ExecuteTime": {
     "end_time": "2019-01-17T17:49:52.689407Z",
     "start_time": "2019-01-17T17:49:52.509804Z"
    }
   },
   "outputs": [],
   "source": [
    "with sb.axes_style(\"darkgrid\"):\n",
    "    plt.subplot(211)\n",
    "    sinplot()\n",
    "plt.subplot(212)\n",
    "sinplot(-1)"
   ]
  },
  {
   "cell_type": "code",
   "execution_count": null,
   "metadata": {
    "ExecuteTime": {
     "end_time": "2019-01-17T17:49:52.699244Z",
     "start_time": "2019-01-17T17:49:52.695923Z"
    },
    "scrolled": true
   },
   "outputs": [],
   "source": [
    "sb.axes_style(\"dark\")"
   ]
  },
  {
   "cell_type": "code",
   "execution_count": null,
   "metadata": {
    "ExecuteTime": {
     "end_time": "2019-01-17T17:49:52.977211Z",
     "start_time": "2019-01-17T17:49:52.872701Z"
    }
   },
   "outputs": [],
   "source": [
    "sb.set_style(\"dark\", {\"axes.facecolor\": \".1\"})\n",
    "sinplot()"
   ]
  },
  {
   "cell_type": "code",
   "execution_count": null,
   "metadata": {
    "ExecuteTime": {
     "end_time": "2019-01-17T17:49:53.177155Z",
     "start_time": "2019-01-17T17:49:53.060551Z"
    }
   },
   "outputs": [],
   "source": [
    "sb.set()\n",
    "sinplot()"
   ]
  },
  {
   "cell_type": "code",
   "execution_count": null,
   "metadata": {
    "ExecuteTime": {
     "end_time": "2019-01-17T17:49:53.366668Z",
     "start_time": "2019-01-17T17:49:53.245127Z"
    }
   },
   "outputs": [],
   "source": [
    "sb.set_context(\"paper\")\n",
    "sinplot()"
   ]
  },
  {
   "cell_type": "code",
   "execution_count": null,
   "metadata": {
    "ExecuteTime": {
     "end_time": "2019-01-17T17:49:53.591099Z",
     "start_time": "2019-01-17T17:49:53.442575Z"
    }
   },
   "outputs": [],
   "source": [
    "sb.set_context(\"notebook\")\n",
    "sinplot()"
   ]
  },
  {
   "cell_type": "code",
   "execution_count": null,
   "metadata": {
    "ExecuteTime": {
     "end_time": "2019-01-17T17:49:53.749951Z",
     "start_time": "2019-01-17T17:49:53.642157Z"
    }
   },
   "outputs": [],
   "source": [
    "sb.set_context(\"talk\")\n",
    "sinplot()"
   ]
  },
  {
   "cell_type": "code",
   "execution_count": null,
   "metadata": {
    "ExecuteTime": {
     "end_time": "2019-01-17T17:49:53.920361Z",
     "start_time": "2019-01-17T17:49:53.819018Z"
    }
   },
   "outputs": [],
   "source": [
    "sb.set_context(\"poster\")\n",
    "sinplot()"
   ]
  },
  {
   "cell_type": "code",
   "execution_count": null,
   "metadata": {
    "ExecuteTime": {
     "end_time": "2019-01-17T17:49:54.151941Z",
     "start_time": "2019-01-17T17:49:54.016391Z"
    }
   },
   "outputs": [],
   "source": [
    "sb.set(context='paper', rc={\"figure.figsize\": (10, 6)})\n",
    "sinplot()"
   ]
  },
  {
   "cell_type": "markdown",
   "metadata": {},
   "source": [
    "# Color Palettes"
   ]
  },
  {
   "cell_type": "code",
   "execution_count": null,
   "metadata": {
    "ExecuteTime": {
     "end_time": "2019-01-17T17:49:54.503811Z",
     "start_time": "2019-01-17T17:49:54.439984Z"
    }
   },
   "outputs": [],
   "source": [
    "current_palette = sb.color_palette(\"deep\")\n",
    "sb.palplot(current_palette)"
   ]
  },
  {
   "cell_type": "code",
   "execution_count": null,
   "metadata": {
    "ExecuteTime": {
     "end_time": "2019-01-17T17:49:54.685368Z",
     "start_time": "2019-01-17T17:49:54.629730Z"
    }
   },
   "outputs": [],
   "source": [
    "sb.palplot(sb.color_palette(\"pastel\"))"
   ]
  },
  {
   "cell_type": "code",
   "execution_count": null,
   "metadata": {
    "ExecuteTime": {
     "end_time": "2019-01-17T17:49:54.939542Z",
     "start_time": "2019-01-17T17:49:54.880158Z"
    }
   },
   "outputs": [],
   "source": [
    "sb.palplot(sb.color_palette(\"bright\"))"
   ]
  },
  {
   "cell_type": "code",
   "execution_count": null,
   "metadata": {
    "ExecuteTime": {
     "end_time": "2019-01-17T17:49:55.114703Z",
     "start_time": "2019-01-17T17:49:55.058585Z"
    }
   },
   "outputs": [],
   "source": [
    "sb.palplot(sb.color_palette(\"dark\"))"
   ]
  },
  {
   "cell_type": "code",
   "execution_count": null,
   "metadata": {
    "ExecuteTime": {
     "end_time": "2019-01-17T17:49:55.319046Z",
     "start_time": "2019-01-17T17:49:55.264081Z"
    }
   },
   "outputs": [],
   "source": [
    "sb.palplot(sb.color_palette(\"colorblind\"))"
   ]
  },
  {
   "cell_type": "code",
   "execution_count": null,
   "metadata": {
    "ExecuteTime": {
     "end_time": "2019-01-17T17:49:55.523931Z",
     "start_time": "2019-01-17T17:49:55.472303Z"
    }
   },
   "outputs": [],
   "source": [
    "sb.palplot(sb.color_palette(\"Blues\"))"
   ]
  },
  {
   "cell_type": "code",
   "execution_count": null,
   "metadata": {
    "ExecuteTime": {
     "end_time": "2019-01-17T17:49:55.734412Z",
     "start_time": "2019-01-17T17:49:55.687868Z"
    }
   },
   "outputs": [],
   "source": [
    "sb.palplot(sb.color_palette(\"BuGn_r\"))"
   ]
  },
  {
   "cell_type": "code",
   "execution_count": null,
   "metadata": {
    "ExecuteTime": {
     "end_time": "2019-01-17T17:49:55.962348Z",
     "start_time": "2019-01-17T17:49:55.900220Z"
    }
   },
   "outputs": [],
   "source": [
    "sb.palplot(sb.color_palette(\"Paired\"))"
   ]
  },
  {
   "cell_type": "code",
   "execution_count": null,
   "metadata": {
    "ExecuteTime": {
     "end_time": "2019-01-17T17:49:56.150351Z",
     "start_time": "2019-01-17T17:49:56.093171Z"
    }
   },
   "outputs": [],
   "source": [
    "sb.palplot(sb.color_palette(\"Set2\", n_colors=10, desat=.8))"
   ]
  },
  {
   "cell_type": "code",
   "execution_count": null,
   "metadata": {
    "ExecuteTime": {
     "end_time": "2019-01-17T17:49:56.357512Z",
     "start_time": "2019-01-17T17:49:56.305009Z"
    }
   },
   "outputs": [],
   "source": [
    "sb.palplot(sb.color_palette(\"husl\", n_colors=8))"
   ]
  },
  {
   "cell_type": "code",
   "execution_count": null,
   "metadata": {
    "ExecuteTime": {
     "end_time": "2019-01-17T17:49:56.601408Z",
     "start_time": "2019-01-17T17:49:56.515775Z"
    }
   },
   "outputs": [],
   "source": [
    "sb.palplot(sb.color_palette(\"hls\", 8))"
   ]
  },
  {
   "cell_type": "code",
   "execution_count": null,
   "metadata": {
    "ExecuteTime": {
     "end_time": "2019-01-17T17:49:56.770534Z",
     "start_time": "2019-01-17T17:49:56.713747Z"
    },
    "scrolled": true
   },
   "outputs": [],
   "source": [
    "sb.palplot(sb.hls_palette(8, l=.3, s=.8))"
   ]
  },
  {
   "cell_type": "code",
   "execution_count": null,
   "metadata": {
    "ExecuteTime": {
     "end_time": "2019-01-17T17:49:56.949930Z",
     "start_time": "2019-01-17T17:49:56.901265Z"
    }
   },
   "outputs": [],
   "source": [
    "sb.palplot(sb.husl_palette(8, l=.3, s=.8))"
   ]
  },
  {
   "cell_type": "code",
   "execution_count": null,
   "metadata": {
    "ExecuteTime": {
     "end_time": "2019-01-17T17:49:57.182340Z",
     "start_time": "2019-01-17T17:49:57.136115Z"
    }
   },
   "outputs": [],
   "source": [
    "sb.palplot(sb.light_palette(\"purple\"))"
   ]
  },
  {
   "cell_type": "code",
   "execution_count": null,
   "metadata": {
    "ExecuteTime": {
     "end_time": "2019-01-17T17:49:57.421015Z",
     "start_time": "2019-01-17T17:49:57.373595Z"
    }
   },
   "outputs": [],
   "source": [
    "sb.palplot(sb.dark_palette(\"purple\"))"
   ]
  },
  {
   "cell_type": "code",
   "execution_count": null,
   "metadata": {
    "ExecuteTime": {
     "end_time": "2019-01-17T17:49:57.610684Z",
     "start_time": "2019-01-17T17:49:57.557579Z"
    }
   },
   "outputs": [],
   "source": [
    "sb.palplot(sb.blend_palette([\"firebrick\", \"palegreen\"], 8)) "
   ]
  },
  {
   "cell_type": "code",
   "execution_count": null,
   "metadata": {
    "ExecuteTime": {
     "end_time": "2019-01-17T17:49:57.844811Z",
     "start_time": "2019-01-17T17:49:57.790577Z"
    }
   },
   "outputs": [],
   "source": [
    "sb.palplot(sb.diverging_palette(220, 20, n=7))"
   ]
  },
  {
   "cell_type": "code",
   "execution_count": null,
   "metadata": {
    "ExecuteTime": {
     "end_time": "2019-01-17T17:49:58.018424Z",
     "start_time": "2019-01-17T17:49:57.994635Z"
    }
   },
   "outputs": [],
   "source": [
    "sb.diverging_palette?"
   ]
  },
  {
   "cell_type": "code",
   "execution_count": null,
   "metadata": {
    "ExecuteTime": {
     "end_time": "2019-01-17T17:49:58.261982Z",
     "start_time": "2019-01-17T17:49:58.210305Z"
    }
   },
   "outputs": [],
   "source": [
    "sb.palplot(sb.diverging_palette(255, 133, l=60, n=7, center=\"dark\"))"
   ]
  },
  {
   "cell_type": "code",
   "execution_count": null,
   "metadata": {
    "ExecuteTime": {
     "end_time": "2019-01-17T17:49:58.445051Z",
     "start_time": "2019-01-17T17:49:58.401715Z"
    }
   },
   "outputs": [],
   "source": [
    "flatui = [\"#9b59b6\", \"#3498db\", \"#95a5a6\", \"#e74c3c\", \"#34495e\", \"#2ecc71\"]\n",
    "sb.palplot(sb.color_palette(flatui))"
   ]
  },
  {
   "cell_type": "code",
   "execution_count": null,
   "metadata": {
    "ExecuteTime": {
     "end_time": "2019-01-17T17:49:58.700836Z",
     "start_time": "2019-01-17T17:49:58.649649Z"
    }
   },
   "outputs": [],
   "source": [
    "colors = [\"windows blue\", \"amber\", \"greyish\", \"faded green\", \"dusty purple\", \"wisteria\"]\n",
    "sb.palplot(sb.xkcd_palette(colors))"
   ]
  },
  {
   "cell_type": "code",
   "execution_count": null,
   "metadata": {
    "ExecuteTime": {
     "end_time": "2019-01-17T17:49:59.433900Z",
     "start_time": "2019-01-17T17:49:59.410640Z"
    }
   },
   "outputs": [],
   "source": [
    "sb.xkcd_rgb"
   ]
  },
  {
   "cell_type": "code",
   "execution_count": null,
   "metadata": {
    "ExecuteTime": {
     "end_time": "2019-01-17T17:50:00.943348Z",
     "start_time": "2019-01-17T17:50:00.893993Z"
    }
   },
   "outputs": [],
   "source": [
    "sb.palplot(sb.cubehelix_palette(8, start=1.5, rot=1.75, dark=0.5, light=.95, reverse=True))"
   ]
  },
  {
   "cell_type": "code",
   "execution_count": null,
   "metadata": {
    "ExecuteTime": {
     "end_time": "2019-01-17T17:50:01.427547Z",
     "start_time": "2019-01-17T17:50:01.294194Z"
    }
   },
   "outputs": [],
   "source": [
    "with sb.xkcd_palette(colors):\n",
    "    sinplot()"
   ]
  },
  {
   "cell_type": "code",
   "execution_count": null,
   "metadata": {
    "ExecuteTime": {
     "end_time": "2019-01-17T17:50:01.752204Z",
     "start_time": "2019-01-17T17:50:01.608487Z"
    }
   },
   "outputs": [],
   "source": [
    "sinplot()"
   ]
  },
  {
   "cell_type": "code",
   "execution_count": null,
   "metadata": {
    "ExecuteTime": {
     "end_time": "2019-01-17T17:50:02.052779Z",
     "start_time": "2019-01-17T17:50:01.914003Z"
    }
   },
   "outputs": [],
   "source": [
    "sb.set_palette(sb.color_palette(\"Dark2\", 8))\n",
    "sinplot()"
   ]
  },
  {
   "cell_type": "markdown",
   "metadata": {},
   "source": [
    "# Density Plots"
   ]
  },
  {
   "cell_type": "code",
   "execution_count": null,
   "metadata": {
    "ExecuteTime": {
     "end_time": "2019-01-17T17:50:03.038886Z",
     "start_time": "2019-01-17T17:50:02.852240Z"
    }
   },
   "outputs": [],
   "source": [
    "x = np.random.normal(size=200)\n",
    "sb.distplot(x)"
   ]
  },
  {
   "cell_type": "code",
   "execution_count": null,
   "metadata": {
    "ExecuteTime": {
     "end_time": "2019-01-17T17:50:04.872744Z",
     "start_time": "2019-01-17T17:50:04.711913Z"
    }
   },
   "outputs": [],
   "source": [
    "sb.distplot(x, bins=20)"
   ]
  },
  {
   "cell_type": "code",
   "execution_count": null,
   "metadata": {
    "ExecuteTime": {
     "end_time": "2019-01-17T17:50:06.363116Z",
     "start_time": "2019-01-17T17:50:06.212404Z"
    }
   },
   "outputs": [],
   "source": [
    "sb.distplot(x, bins=20, kde=False, rug=True)"
   ]
  },
  {
   "cell_type": "code",
   "execution_count": null,
   "metadata": {
    "ExecuteTime": {
     "end_time": "2019-01-17T17:51:22.110055Z",
     "start_time": "2019-01-17T17:51:21.727951Z"
    }
   },
   "outputs": [],
   "source": [
    "f, axes = plt.subplots(2, 2, figsize=(10, 10), sharex=True)\n",
    "sb.despine(left=True)\n",
    "\n",
    "sb.distplot(x, kde=False, color=\"b\", ax=axes[0, 0])\n",
    "\n",
    "sb.distplot(x, hist=False, rug=True, color=\"r\", ax=axes[0, 1])\n",
    "\n",
    "sb.distplot(x, hist=False, color=\"g\", kde_kws={\"shade\": True}, ax=axes[1, 0])\n",
    "\n",
    "sb.distplot(x, color=\"y\", ax=axes[1, 1])\n",
    "\n",
    "#plt.setp(axes, yticks=[])\n",
    "#plt.tight_layout()"
   ]
  },
  {
   "cell_type": "code",
   "execution_count": null,
   "metadata": {
    "ExecuteTime": {
     "end_time": "2019-01-17T17:51:26.264208Z",
     "start_time": "2019-01-17T17:51:26.078457Z"
    }
   },
   "outputs": [],
   "source": [
    "x = np.random.normal(size=15)\n",
    "support = np.linspace(-4, 4, 100)\n",
    "bandwidth = 0.7\n",
    "for x_i in x:\n",
    "    plt.plot(support,  sp.stats.norm(x_i, bandwidth).pdf(support))"
   ]
  },
  {
   "cell_type": "code",
   "execution_count": null,
   "metadata": {
    "ExecuteTime": {
     "end_time": "2019-01-17T17:51:34.464637Z",
     "start_time": "2019-01-17T17:51:34.276311Z"
    }
   },
   "outputs": [],
   "source": [
    "for x_i in x:\n",
    "    plt.plot(support,  sp.stats.norm(x_i, bandwidth).pdf(support))\n",
    "sb.rugplot(x, color=\".2\", linewidth=3)"
   ]
  },
  {
   "cell_type": "code",
   "execution_count": null,
   "metadata": {
    "ExecuteTime": {
     "end_time": "2019-01-17T17:51:35.673033Z",
     "start_time": "2019-01-17T17:51:35.657854Z"
    }
   },
   "outputs": [],
   "source": [
    "kernels = []\n",
    "for x_i in x:\n",
    "    kernel = sp.stats.norm(x_i, bandwidth).pdf(support)\n",
    "    kernels.append(kernel)"
   ]
  },
  {
   "cell_type": "code",
   "execution_count": null,
   "metadata": {
    "ExecuteTime": {
     "end_time": "2019-01-17T17:51:36.725303Z",
     "start_time": "2019-01-17T17:51:36.585208Z"
    }
   },
   "outputs": [],
   "source": [
    "density = np.sum(kernels, axis=0)\n",
    "plt.plot(support, density)"
   ]
  },
  {
   "cell_type": "code",
   "execution_count": null,
   "metadata": {
    "ExecuteTime": {
     "end_time": "2019-01-17T17:51:45.206679Z",
     "start_time": "2019-01-17T17:51:45.079295Z"
    }
   },
   "outputs": [],
   "source": [
    "density /= sp.integrate.trapz(density, support)\n",
    "plt.plot(support, density)"
   ]
  },
  {
   "cell_type": "code",
   "execution_count": null,
   "metadata": {
    "ExecuteTime": {
     "end_time": "2019-01-17T17:51:46.318842Z",
     "start_time": "2019-01-17T17:51:46.159192Z"
    }
   },
   "outputs": [],
   "source": [
    "sb.kdeplot(x, shade=True)"
   ]
  },
  {
   "cell_type": "code",
   "execution_count": null,
   "metadata": {
    "ExecuteTime": {
     "end_time": "2019-01-17T17:51:49.230936Z",
     "start_time": "2019-01-17T17:51:49.054406Z"
    }
   },
   "outputs": [],
   "source": [
    "sb.kdeplot(x, bw='scott', label=\"bw: scott\")\n",
    "sb.kdeplot(x, bw='silverman', label=\"bw: silverman\")\n",
    "sb.kdeplot(x, bw=.2, label=\"bw: 0.2\")\n",
    "sb.kdeplot(x, bw=2, label=\"bw: 2\")\n",
    "sb.rugplot(x)\n",
    "plt.ylim(0, 0.8)\n",
    "plt.legend()"
   ]
  },
  {
   "cell_type": "code",
   "execution_count": null,
   "metadata": {
    "ExecuteTime": {
     "end_time": "2019-01-17T17:51:51.968549Z",
     "start_time": "2019-01-17T17:51:51.796965Z"
    }
   },
   "outputs": [],
   "source": [
    "x = np.random.normal(size=30)\n",
    "sb.kdeplot(x, shade=True, cut=0)\n",
    "sb.rugplot(x)"
   ]
  },
  {
   "cell_type": "code",
   "execution_count": null,
   "metadata": {
    "ExecuteTime": {
     "end_time": "2019-01-17T17:51:56.488069Z",
     "start_time": "2019-01-17T17:51:55.993875Z"
    }
   },
   "outputs": [],
   "source": [
    "x = np.random.gamma(6, size=200)\n",
    "\n",
    "plt.subplot(221)\n",
    "sb.distplot(x, kde=False, hist=True, fit=sp.stats.norm)\n",
    "\n",
    "plt.subplot(222)\n",
    "sb.distplot(x, kde=False, hist=True, fit=sp.stats.laplace)\n",
    "\n",
    "plt.subplot(223)\n",
    "sb.distplot(x, kde=False, hist=True, fit=sp.stats.expon)\n",
    "\n",
    "plt.subplot(224)\n",
    "sb.distplot(x, kde=False, hist=True, fit=sp.stats.gamma)"
   ]
  },
  {
   "cell_type": "markdown",
   "metadata": {},
   "source": [
    "## Bivariate Plots"
   ]
  },
  {
   "cell_type": "code",
   "execution_count": null,
   "metadata": {
    "ExecuteTime": {
     "end_time": "2018-12-06T16:09:52.818260Z",
     "start_time": "2018-12-06T16:09:52.815080Z"
    }
   },
   "outputs": [],
   "source": [
    "import pandas as pd\n",
    "sb.set()"
   ]
  },
  {
   "cell_type": "code",
   "execution_count": null,
   "metadata": {
    "ExecuteTime": {
     "end_time": "2018-12-06T16:09:52.970654Z",
     "start_time": "2018-12-06T16:09:52.820428Z"
    },
    "scrolled": true
   },
   "outputs": [],
   "source": [
    "mean, cov = [0, 1], [(1, .95), (.95, 1)]\n",
    "data = np.random.multivariate_normal(mean, cov, 200)\n",
    "x, y = data.T[0], data.T[1]"
   ]
  },
  {
   "cell_type": "code",
   "execution_count": null,
   "metadata": {
    "ExecuteTime": {
     "end_time": "2018-12-06T16:09:53.240111Z",
     "start_time": "2018-12-06T16:09:52.972914Z"
    }
   },
   "outputs": [],
   "source": [
    "sb.distplot(x)\n",
    "sb.distplot(y)"
   ]
  },
  {
   "cell_type": "code",
   "execution_count": null,
   "metadata": {
    "ExecuteTime": {
     "end_time": "2018-12-06T16:09:53.569283Z",
     "start_time": "2018-12-06T16:09:53.242081Z"
    }
   },
   "outputs": [],
   "source": [
    "sb.jointplot(x, y, size=7)"
   ]
  },
  {
   "cell_type": "code",
   "execution_count": null,
   "metadata": {
    "ExecuteTime": {
     "end_time": "2018-12-06T16:09:53.887839Z",
     "start_time": "2018-12-06T16:09:53.571539Z"
    }
   },
   "outputs": [],
   "source": [
    "sb.jointplot(x, y, size=7, kind='hex')"
   ]
  },
  {
   "cell_type": "code",
   "execution_count": null,
   "metadata": {
    "ExecuteTime": {
     "end_time": "2018-12-06T16:09:55.037181Z",
     "start_time": "2018-12-06T16:09:53.890109Z"
    }
   },
   "outputs": [],
   "source": [
    "sb.jointplot(x, y, size=7, kind='kde')\n",
    "plt.savefig('kde2d.pdf')"
   ]
  },
  {
   "cell_type": "code",
   "execution_count": null,
   "metadata": {
    "ExecuteTime": {
     "end_time": "2018-12-06T16:09:55.878070Z",
     "start_time": "2018-12-06T16:09:55.038940Z"
    }
   },
   "outputs": [],
   "source": [
    "f, ax = plt.subplots(figsize=(7, 7))\n",
    "sb.kdeplot(x, y, ax=ax)\n",
    "sb.rugplot(x, color=\"g\", ax=ax)\n",
    "sb.rugplot(y, vertical=True, ax=ax)"
   ]
  },
  {
   "cell_type": "code",
   "execution_count": null,
   "metadata": {
    "ExecuteTime": {
     "end_time": "2018-12-06T16:09:56.772023Z",
     "start_time": "2018-12-06T16:09:55.880703Z"
    }
   },
   "outputs": [],
   "source": [
    "f, ax = plt.subplots(figsize=(7, 7))\n",
    "cmap = sb.cubehelix_palette(as_cmap=True, dark=0, light=1, reverse=True)\n",
    "sb.kdeplot(x, y, ax=ax, cmap=cmap, n_levels=60, shade=True)"
   ]
  },
  {
   "cell_type": "code",
   "execution_count": null,
   "metadata": {
    "ExecuteTime": {
     "end_time": "2018-12-06T16:09:57.949366Z",
     "start_time": "2018-12-06T16:09:56.773966Z"
    }
   },
   "outputs": [],
   "source": [
    "g = sb.jointplot(x, y, kind=\"kde\")\n",
    "g.plot_joint(plt.scatter, c=\"w\", s=30, linewidth=1, marker=\"+\")\n",
    "g.ax_joint.collections[0].set_alpha(0)\n",
    "g.set_axis_labels(\"$X$\", \"$Y$\")"
   ]
  },
  {
   "cell_type": "code",
   "execution_count": null,
   "metadata": {
    "ExecuteTime": {
     "end_time": "2018-12-06T16:10:02.430697Z",
     "start_time": "2018-12-06T16:09:57.951822Z"
    }
   },
   "outputs": [],
   "source": [
    "rs = np.random.RandomState(50)\n",
    "\n",
    "# Set up the matplotlib figure\n",
    "f, axes = plt.subplots(3, 3, figsize=(9, 9), sharex=True, sharey=True)\n",
    "\n",
    "# Rotate the starting point around the cubehelix hue circle\n",
    "for ax, s in zip(axes.flat, np.linspace(0, 3, 10)):\n",
    "    # Create a cubehelix colormap to use with kdeplot\n",
    "    cmap = sb.cubehelix_palette(start=s, light=1, as_cmap=True)\n",
    "    # Generate and plot a random bivariate dataset\n",
    "    x, y = rs.randn(2, 50)\n",
    "    sb.kdeplot(x, y, cmap=cmap, shade=True, cut=5, ax=ax)\n",
    "    ax.set(xlim=(-3, 3), ylim=(-3, 3))\n",
    "\n",
    "f.tight_layout()"
   ]
  },
  {
   "cell_type": "markdown",
   "metadata": {},
   "source": [
    "# Working with Dataframes"
   ]
  },
  {
   "cell_type": "code",
   "execution_count": null,
   "metadata": {
    "ExecuteTime": {
     "end_time": "2018-12-06T16:10:02.533904Z",
     "start_time": "2018-12-06T16:10:02.432383Z"
    },
    "scrolled": true
   },
   "outputs": [],
   "source": [
    "tips = sb.load_dataset(\"tips\")\n",
    "tips"
   ]
  },
  {
   "cell_type": "code",
   "execution_count": null,
   "metadata": {
    "ExecuteTime": {
     "end_time": "2018-12-06T16:10:02.740300Z",
     "start_time": "2018-12-06T16:10:02.535275Z"
    }
   },
   "outputs": [],
   "source": [
    "sb.countplot(x=tips['day'], hue=tips['sex'])"
   ]
  },
  {
   "cell_type": "code",
   "execution_count": null,
   "metadata": {
    "ExecuteTime": {
     "end_time": "2018-12-06T16:10:02.902286Z",
     "start_time": "2018-12-06T16:10:02.741899Z"
    },
    "scrolled": false
   },
   "outputs": [],
   "source": [
    "sb.countplot(x=\"day\", hue=\"sex\", data=tips)"
   ]
  },
  {
   "cell_type": "code",
   "execution_count": null,
   "metadata": {
    "ExecuteTime": {
     "end_time": "2018-12-06T16:10:03.061722Z",
     "start_time": "2018-12-06T16:10:02.904205Z"
    },
    "scrolled": false
   },
   "outputs": [],
   "source": [
    "sb.countplot(y=\"day\", hue=\"sex\", data=tips, palette='hls')"
   ]
  },
  {
   "cell_type": "code",
   "execution_count": null,
   "metadata": {
    "ExecuteTime": {
     "end_time": "2018-12-06T16:10:03.376219Z",
     "start_time": "2018-12-06T16:10:03.063678Z"
    },
    "scrolled": false
   },
   "outputs": [],
   "source": [
    "sb.barplot(x=\"day\", y=\"total_bill\", hue=\"sex\", data=tips)"
   ]
  },
  {
   "cell_type": "code",
   "execution_count": null,
   "metadata": {
    "ExecuteTime": {
     "end_time": "2018-12-06T16:10:03.661462Z",
     "start_time": "2018-12-06T16:10:03.377668Z"
    },
    "scrolled": false
   },
   "outputs": [],
   "source": [
    "sb.pointplot(x=\"day\", y=\"total_bill\", hue=\"sex\", data=tips)"
   ]
  },
  {
   "cell_type": "code",
   "execution_count": null,
   "metadata": {
    "ExecuteTime": {
     "end_time": "2018-12-06T16:10:03.929006Z",
     "start_time": "2018-12-06T16:10:03.663189Z"
    },
    "scrolled": false
   },
   "outputs": [],
   "source": [
    "sb.pointplot(x=\"day\", y=\"total_bill\", hue=\"sex\", data=tips, \n",
    "             palette={\"Male\": \"#943684\", \"Female\": \"#528257\"}, \n",
    "             markers=[\"^\", \"o\"], linestyles=[\"-\", \"--\"])"
   ]
  },
  {
   "cell_type": "code",
   "execution_count": null,
   "metadata": {
    "ExecuteTime": {
     "end_time": "2018-12-06T16:10:04.059411Z",
     "start_time": "2018-12-06T16:10:03.930417Z"
    }
   },
   "outputs": [],
   "source": [
    "sb.stripplot(x=\"day\", y=\"total_bill\", data=tips)"
   ]
  },
  {
   "cell_type": "code",
   "execution_count": null,
   "metadata": {
    "ExecuteTime": {
     "end_time": "2018-12-06T16:10:04.263938Z",
     "start_time": "2018-12-06T16:10:04.061153Z"
    }
   },
   "outputs": [],
   "source": [
    "sb.stripplot(x=\"day\", y=\"total_bill\", data=tips, jitter=True)"
   ]
  },
  {
   "cell_type": "code",
   "execution_count": null,
   "metadata": {
    "ExecuteTime": {
     "end_time": "2018-12-06T16:10:04.448980Z",
     "start_time": "2018-12-06T16:10:04.265884Z"
    }
   },
   "outputs": [],
   "source": [
    "sb.swarmplot(x=\"time\", y=\"tip\", data=tips)"
   ]
  },
  {
   "cell_type": "code",
   "execution_count": null,
   "metadata": {
    "ExecuteTime": {
     "end_time": "2018-12-06T16:10:04.645283Z",
     "start_time": "2018-12-06T16:10:04.450892Z"
    }
   },
   "outputs": [],
   "source": [
    "sb.swarmplot(x=\"size\", y=\"total_bill\", data=tips)"
   ]
  },
  {
   "cell_type": "code",
   "execution_count": null,
   "metadata": {
    "ExecuteTime": {
     "end_time": "2018-12-06T16:10:04.879776Z",
     "start_time": "2018-12-06T16:10:04.647683Z"
    }
   },
   "outputs": [],
   "source": [
    "sb.swarmplot(x=\"day\", y=\"total_bill\", hue=\"sex\", data=tips)"
   ]
  },
  {
   "cell_type": "code",
   "execution_count": null,
   "metadata": {
    "ExecuteTime": {
     "end_time": "2018-12-06T16:10:05.094626Z",
     "start_time": "2018-12-06T16:10:04.881520Z"
    }
   },
   "outputs": [],
   "source": [
    "sb.swarmplot(x=\"total_bill\", y=\"day\", hue=\"time\", data=tips)"
   ]
  },
  {
   "cell_type": "code",
   "execution_count": null,
   "metadata": {
    "ExecuteTime": {
     "end_time": "2018-12-06T16:10:05.350512Z",
     "start_time": "2018-12-06T16:10:05.096733Z"
    },
    "scrolled": false
   },
   "outputs": [],
   "source": [
    "sb.boxplot(x=\"day\", y=\"total_bill\", hue=\"time\", data=tips)"
   ]
  },
  {
   "cell_type": "code",
   "execution_count": null,
   "metadata": {
    "ExecuteTime": {
     "end_time": "2018-12-06T16:10:05.386374Z",
     "start_time": "2018-12-06T16:10:05.352182Z"
    },
    "scrolled": true
   },
   "outputs": [],
   "source": [
    "tips"
   ]
  },
  {
   "cell_type": "code",
   "execution_count": null,
   "metadata": {
    "ExecuteTime": {
     "end_time": "2018-12-06T16:10:05.479507Z",
     "start_time": "2018-12-06T16:10:05.387904Z"
    },
    "scrolled": true
   },
   "outputs": [],
   "source": [
    "tips[\"weekend\"] = tips[\"day\"].isin([\"Sat\", \"Sun\"])\n",
    "tips"
   ]
  },
  {
   "cell_type": "code",
   "execution_count": null,
   "metadata": {
    "ExecuteTime": {
     "end_time": "2018-12-06T16:10:05.800514Z",
     "start_time": "2018-12-06T16:10:05.480984Z"
    },
    "scrolled": false
   },
   "outputs": [],
   "source": [
    "sb.boxplot(x=\"day\", y=\"total_bill\", hue=\"weekend\", data=tips)"
   ]
  },
  {
   "cell_type": "code",
   "execution_count": null,
   "metadata": {
    "ExecuteTime": {
     "end_time": "2018-12-06T16:10:06.067655Z",
     "start_time": "2018-12-06T16:10:05.802599Z"
    }
   },
   "outputs": [],
   "source": [
    "sb.boxplot(x=\"day\", y=\"total_bill\", data=tips)\n",
    "sb.swarmplot(x=\"day\", y=\"total_bill\", data=tips, size=5, color=\".3\", linewidth=0)\n",
    "sb.despine(trim=True, left=True)"
   ]
  },
  {
   "cell_type": "code",
   "execution_count": null,
   "metadata": {
    "ExecuteTime": {
     "end_time": "2018-12-06T16:10:06.358401Z",
     "start_time": "2018-12-06T16:10:06.069727Z"
    }
   },
   "outputs": [],
   "source": [
    "sb.violinplot(x=\"total_bill\", y=\"day\", hue=\"sex\", data=tips)"
   ]
  },
  {
   "cell_type": "code",
   "execution_count": null,
   "metadata": {
    "ExecuteTime": {
     "end_time": "2018-12-06T16:10:06.629618Z",
     "start_time": "2018-12-06T16:10:06.360632Z"
    }
   },
   "outputs": [],
   "source": [
    "sb.violinplot(x=\"day\", y=\"total_bill\", hue=\"sex\", data=tips, bw=.2, scale=\"count\")"
   ]
  },
  {
   "cell_type": "code",
   "execution_count": null,
   "metadata": {
    "ExecuteTime": {
     "end_time": "2018-12-06T16:10:06.853321Z",
     "start_time": "2018-12-06T16:10:06.631690Z"
    }
   },
   "outputs": [],
   "source": [
    "sb.violinplot(x=\"day\", y=\"total_bill\", hue=\"sex\", data=tips, bw=.1, scale=\"count\", \n",
    "              split=True)"
   ]
  },
  {
   "cell_type": "code",
   "execution_count": null,
   "metadata": {
    "ExecuteTime": {
     "end_time": "2018-12-06T16:10:07.506226Z",
     "start_time": "2018-12-06T16:10:06.855339Z"
    }
   },
   "outputs": [],
   "source": [
    "sb.violinplot(x=\"day\", y=\"total_bill\", hue=\"sex\", data=tips, split=True, inner=\"stick\")"
   ]
  },
  {
   "cell_type": "code",
   "execution_count": null,
   "metadata": {
    "ExecuteTime": {
     "end_time": "2018-12-06T16:10:07.716809Z",
     "start_time": "2018-12-06T16:10:07.508242Z"
    }
   },
   "outputs": [],
   "source": [
    "sb.violinplot(x=\"day\", y=\"total_bill\", hue=\"sex\", data=tips, split=True, inner=\"quart\")\n",
    "sb.despine(left=True)"
   ]
  },
  {
   "cell_type": "code",
   "execution_count": null,
   "metadata": {
    "ExecuteTime": {
     "end_time": "2018-12-06T16:10:07.902356Z",
     "start_time": "2018-12-06T16:10:07.718648Z"
    }
   },
   "outputs": [],
   "source": [
    "sb.violinplot(x=\"day\", y=\"total_bill\", data=tips, inner=None)\n",
    "sb.swarmplot(x=\"day\", y=\"total_bill\", data=tips, color=\"w\", alpha=.5)"
   ]
  },
  {
   "cell_type": "code",
   "execution_count": null,
   "metadata": {
    "ExecuteTime": {
     "end_time": "2018-12-06T16:10:08.290923Z",
     "start_time": "2018-12-06T16:10:07.904180Z"
    }
   },
   "outputs": [],
   "source": [
    "sb.factorplot(x=\"day\", y=\"total_bill\", hue=\"sex\", data=tips, size=6)"
   ]
  },
  {
   "cell_type": "code",
   "execution_count": null,
   "metadata": {
    "ExecuteTime": {
     "end_time": "2018-12-06T16:10:08.619202Z",
     "start_time": "2018-12-06T16:10:08.292623Z"
    }
   },
   "outputs": [],
   "source": [
    "sb.factorplot(x=\"day\", y=\"total_bill\", hue=\"sex\", data=tips, size=6, kind=\"bar\")"
   ]
  },
  {
   "cell_type": "code",
   "execution_count": null,
   "metadata": {
    "ExecuteTime": {
     "end_time": "2018-12-06T16:10:08.675208Z",
     "start_time": "2018-12-06T16:10:08.620698Z"
    },
    "scrolled": true
   },
   "outputs": [],
   "source": [
    "tips"
   ]
  },
  {
   "cell_type": "code",
   "execution_count": null,
   "metadata": {
    "ExecuteTime": {
     "end_time": "2018-12-06T16:10:09.151549Z",
     "start_time": "2018-12-06T16:10:08.677164Z"
    }
   },
   "outputs": [],
   "source": [
    "sb.factorplot(x=\"day\", hue=\"size\", data=tips, size=6, kind=\"count\", palette=\"BuPu\", aspect=1.5)"
   ]
  },
  {
   "cell_type": "code",
   "execution_count": null,
   "metadata": {
    "ExecuteTime": {
     "end_time": "2018-12-06T16:10:09.611339Z",
     "start_time": "2018-12-06T16:10:09.154690Z"
    }
   },
   "outputs": [],
   "source": [
    "sb.factorplot(x=\"day\", y=\"total_bill\", hue=\"smoker\", \n",
    "              col=\"time\", data=tips, size=6, kind=\"swarm\")"
   ]
  },
  {
   "cell_type": "code",
   "execution_count": null,
   "metadata": {
    "ExecuteTime": {
     "end_time": "2018-12-06T16:10:10.234819Z",
     "start_time": "2018-12-06T16:10:09.614414Z"
    }
   },
   "outputs": [],
   "source": [
    "sb.factorplot(x=\"time\", y=\"total_bill\", hue=\"smoker\", col=\"day\", data=tips, \n",
    "              kind=\"box\", size=6, aspect=.5)"
   ]
  },
  {
   "cell_type": "code",
   "execution_count": null,
   "metadata": {
    "ExecuteTime": {
     "end_time": "2018-12-06T16:10:10.269217Z",
     "start_time": "2018-12-06T16:10:10.236455Z"
    },
    "scrolled": true
   },
   "outputs": [],
   "source": [
    "tips"
   ]
  },
  {
   "cell_type": "code",
   "execution_count": null,
   "metadata": {
    "ExecuteTime": {
     "end_time": "2018-12-06T16:10:12.170573Z",
     "start_time": "2018-12-06T16:10:10.271034Z"
    }
   },
   "outputs": [],
   "source": [
    "g = sb.PairGrid(tips, x_vars=[\"smoker\", \"time\", \"sex\"], \n",
    "                y_vars=[\"total_bill\", \"tip\", \"size\"], aspect=.75, size=6)\n",
    "g.map(sb.swarmplot, palette=\"pastel\")"
   ]
  },
  {
   "cell_type": "markdown",
   "metadata": {},
   "source": [
    "## Bivariates Plots"
   ]
  },
  {
   "cell_type": "code",
   "execution_count": null,
   "metadata": {
    "ExecuteTime": {
     "end_time": "2018-12-06T16:10:12.261773Z",
     "start_time": "2018-12-06T16:10:12.172564Z"
    },
    "scrolled": true
   },
   "outputs": [],
   "source": [
    "iris = sb.load_dataset('iris')\n",
    "iris"
   ]
  },
  {
   "cell_type": "code",
   "execution_count": null,
   "metadata": {
    "ExecuteTime": {
     "end_time": "2018-12-06T16:10:12.699361Z",
     "start_time": "2018-12-06T16:10:12.263408Z"
    },
    "scrolled": false
   },
   "outputs": [],
   "source": [
    "sb.jointplot(x=\"sepal_length\", y=\"sepal_width\", data=iris, size=7)"
   ]
  },
  {
   "cell_type": "code",
   "execution_count": null,
   "metadata": {
    "ExecuteTime": {
     "end_time": "2018-12-06T16:10:14.086136Z",
     "start_time": "2018-12-06T16:10:12.703266Z"
    },
    "scrolled": false
   },
   "outputs": [],
   "source": [
    "sb.pairplot(iris)"
   ]
  },
  {
   "cell_type": "code",
   "execution_count": null,
   "metadata": {
    "ExecuteTime": {
     "end_time": "2018-12-06T16:10:16.410716Z",
     "start_time": "2018-12-06T16:10:14.088199Z"
    },
    "scrolled": false
   },
   "outputs": [],
   "source": [
    "sb.pairplot(iris, hue=\"species\")"
   ]
  },
  {
   "cell_type": "code",
   "execution_count": null,
   "metadata": {
    "ExecuteTime": {
     "end_time": "2018-12-06T16:10:20.494804Z",
     "start_time": "2018-12-06T16:10:16.412986Z"
    },
    "scrolled": false
   },
   "outputs": [],
   "source": [
    "g = sb.PairGrid(iris[iris.species == 'versicolor'])\n",
    "g.map_diag(sb.distplot, norm_hist=True, bins='auto', kde_kws={'cumulative': True})\n",
    "g.map_lower(sb.kdeplot, cmap=\"Blues_d\", n_levels=6)\n",
    "g.map_upper(plt.scatter)"
   ]
  },
  {
   "cell_type": "code",
   "execution_count": null,
   "metadata": {
    "ExecuteTime": {
     "end_time": "2018-12-06T16:10:21.565373Z",
     "start_time": "2018-12-06T16:10:20.496676Z"
    }
   },
   "outputs": [],
   "source": [
    "# Subset the iris dataset by species\n",
    "setosa = iris.query(\"species == 'setosa'\")\n",
    "virginica = iris.query(\"species == 'virginica'\")\n",
    "\n",
    "# Set up the figure\n",
    "f, ax = plt.subplots(figsize=(8, 8))\n",
    "ax.set_aspect(\"equal\")\n",
    "\n",
    "# Draw the two density plots\n",
    "ax = sb.kdeplot(setosa.sepal_width, setosa.sepal_length,\n",
    "                 cmap=\"Reds\", shade=True, shade_lowest=False)\n",
    "ax = sb.kdeplot(virginica.sepal_width, virginica.sepal_length,\n",
    "                 cmap=\"Blues\", shade=True, shade_lowest=False)\n",
    "\n",
    "# Add labels to the plot\n",
    "red = sb.color_palette(\"Reds\")[-2]\n",
    "blue = sb.color_palette(\"Blues\")[-2]\n",
    "ax.text(2.5, 8.2, \"virginica\", size=16, color=blue)\n",
    "ax.text(3.8, 4.5, \"setosa\", size=16, color=red)"
   ]
  },
  {
   "cell_type": "markdown",
   "metadata": {},
   "source": [
    "## Linear Regression"
   ]
  },
  {
   "cell_type": "code",
   "execution_count": null,
   "metadata": {
    "ExecuteTime": {
     "end_time": "2018-12-06T16:10:21.593534Z",
     "start_time": "2018-12-06T16:10:21.567655Z"
    },
    "scrolled": true
   },
   "outputs": [],
   "source": [
    "anscombe = sb.load_dataset(\"anscombe\")\n",
    "anscombe"
   ]
  },
  {
   "cell_type": "code",
   "execution_count": null,
   "metadata": {
    "ExecuteTime": {
     "end_time": "2018-12-06T16:10:21.947638Z",
     "start_time": "2018-12-06T16:10:21.595083Z"
    }
   },
   "outputs": [],
   "source": [
    "sb.regplot(x=\"x\", y=\"y\", data=anscombe.query(\"dataset == 'I'\"))"
   ]
  },
  {
   "cell_type": "code",
   "execution_count": null,
   "metadata": {
    "ExecuteTime": {
     "end_time": "2018-12-06T16:10:22.218026Z",
     "start_time": "2018-12-06T16:10:21.949601Z"
    }
   },
   "outputs": [],
   "source": [
    "sb.lmplot(x=\"petal_length\", y=\"sepal_length\", data=iris, size=6)"
   ]
  },
  {
   "cell_type": "code",
   "execution_count": null,
   "metadata": {
    "ExecuteTime": {
     "end_time": "2018-12-06T16:10:23.107653Z",
     "start_time": "2018-12-06T16:10:22.220429Z"
    }
   },
   "outputs": [],
   "source": [
    "sb.lmplot(x=\"petal_length\", y=\"sepal_length\", data=iris, size=6, x_estimator=np.mean)"
   ]
  },
  {
   "cell_type": "code",
   "execution_count": null,
   "metadata": {
    "ExecuteTime": {
     "end_time": "2018-12-06T16:10:23.377372Z",
     "start_time": "2018-12-06T16:10:23.109353Z"
    }
   },
   "outputs": [],
   "source": [
    "sb.lmplot(x=\"x\", y=\"y\", data=anscombe.query(\"dataset == 'II'\"), size=6)"
   ]
  },
  {
   "cell_type": "code",
   "execution_count": null,
   "metadata": {
    "ExecuteTime": {
     "end_time": "2018-12-06T16:10:23.742393Z",
     "start_time": "2018-12-06T16:10:23.379726Z"
    }
   },
   "outputs": [],
   "source": [
    "sb.lmplot(x=\"x\", y=\"y\", data=anscombe.query(\"dataset == 'II'\"), size=6, order=2)"
   ]
  },
  {
   "cell_type": "code",
   "execution_count": null,
   "metadata": {
    "ExecuteTime": {
     "end_time": "2018-12-06T16:10:24.091371Z",
     "start_time": "2018-12-06T16:10:23.744617Z"
    }
   },
   "outputs": [],
   "source": [
    "sb.lmplot(x=\"petal_length\", y=\"sepal_length\", data=iris, size=6, order=2)"
   ]
  },
  {
   "cell_type": "code",
   "execution_count": null,
   "metadata": {
    "ExecuteTime": {
     "end_time": "2018-12-06T16:10:24.526237Z",
     "start_time": "2018-12-06T16:10:24.092988Z"
    }
   },
   "outputs": [],
   "source": [
    "sb.lmplot(x=\"x\", y=\"y\", data=anscombe.query(\"dataset == 'III'\"), size=6, \n",
    "          x_estimator=np.mean)"
   ]
  },
  {
   "cell_type": "code",
   "execution_count": null,
   "metadata": {
    "ExecuteTime": {
     "end_time": "2018-12-06T16:10:30.967208Z",
     "start_time": "2018-12-06T16:10:24.528442Z"
    }
   },
   "outputs": [],
   "source": [
    "sb.lmplot(x=\"x\", y=\"y\", data=anscombe.query(\"dataset == 'III'\"), size=6, robust=True)"
   ]
  },
  {
   "cell_type": "code",
   "execution_count": null,
   "metadata": {
    "ExecuteTime": {
     "end_time": "2018-12-06T16:10:31.381141Z",
     "start_time": "2018-12-06T16:10:30.969778Z"
    }
   },
   "outputs": [],
   "source": [
    "sb.lmplot(x=\"x\", y=\"y\", col=\"dataset\", hue=\"dataset\", data=anscombe, \n",
    "          col_wrap=2, ci=None, palette=\"muted\", size=4, scatter_kws={\"s\": 50, \"alpha\": 1})"
   ]
  },
  {
   "cell_type": "code",
   "execution_count": null,
   "metadata": {
    "ExecuteTime": {
     "end_time": "2018-12-06T16:10:31.891679Z",
     "start_time": "2018-12-06T16:10:31.383317Z"
    }
   },
   "outputs": [],
   "source": [
    "# Plot tip as a function of toal bill across days\n",
    "g = sb.lmplot(x=\"sepal_length\", y=\"sepal_width\", hue=\"species\", \n",
    "              truncate=True, size=8, data=iris)\n",
    "g.set_axis_labels(\"Sepal length (mm)\", \"Sepal width (mm)\")"
   ]
  },
  {
   "cell_type": "code",
   "execution_count": null,
   "metadata": {
    "ExecuteTime": {
     "end_time": "2018-12-06T16:10:32.123355Z",
     "start_time": "2018-12-06T16:10:31.893328Z"
    }
   },
   "outputs": [],
   "source": [
    "tips[\"big_tip\"] = (tips.tip / tips.total_bill) > .15\n",
    "sb.lmplot(x=\"total_bill\", y=\"big_tip\", data=tips, y_jitter=.03)"
   ]
  },
  {
   "cell_type": "code",
   "execution_count": null,
   "metadata": {
    "ExecuteTime": {
     "end_time": "2018-12-06T16:10:33.837748Z",
     "start_time": "2018-12-06T16:10:32.124947Z"
    }
   },
   "outputs": [],
   "source": [
    "sb.lmplot(x=\"total_bill\", y=\"big_tip\", data=tips, y_jitter=.03, logistic=True)"
   ]
  },
  {
   "cell_type": "code",
   "execution_count": null,
   "metadata": {
    "ExecuteTime": {
     "end_time": "2018-12-06T16:10:36.972878Z",
     "start_time": "2018-12-06T16:10:33.842686Z"
    }
   },
   "outputs": [],
   "source": [
    "sb.lmplot(x=\"total_bill\", y=\"big_tip\", data=tips, y_jitter=.03, logistic=True, hue=\"time\")"
   ]
  },
  {
   "cell_type": "code",
   "execution_count": null,
   "metadata": {
    "ExecuteTime": {
     "end_time": "2018-12-06T16:10:37.213770Z",
     "start_time": "2018-12-06T16:10:36.975637Z"
    }
   },
   "outputs": [],
   "source": [
    "sb.lmplot(x=\"total_bill\", y=\"tip\", data=tips, y_jitter=.03, lowess=True, hue=\"smoker\")"
   ]
  },
  {
   "cell_type": "code",
   "execution_count": null,
   "metadata": {
    "ExecuteTime": {
     "end_time": "2018-12-06T16:10:37.943997Z",
     "start_time": "2018-12-06T16:10:37.215796Z"
    }
   },
   "outputs": [],
   "source": [
    "sb.lmplot(x=\"total_bill\", y=\"tip\", hue=\"smoker\", col=\"time\", data=tips)"
   ]
  },
  {
   "cell_type": "code",
   "execution_count": null,
   "metadata": {
    "ExecuteTime": {
     "end_time": "2018-12-06T16:10:39.326559Z",
     "start_time": "2018-12-06T16:10:37.945786Z"
    }
   },
   "outputs": [],
   "source": [
    "sb.lmplot(x=\"total_bill\", y=\"tip\", hue=\"smoker\", col=\"time\", row=\"sex\", data=tips)"
   ]
  },
  {
   "cell_type": "markdown",
   "metadata": {},
   "source": [
    "## Miscellaneous"
   ]
  },
  {
   "cell_type": "code",
   "execution_count": null,
   "metadata": {
    "ExecuteTime": {
     "end_time": "2018-12-06T16:10:39.533889Z",
     "start_time": "2018-12-06T16:10:39.328216Z"
    }
   },
   "outputs": [],
   "source": [
    "# Initialize the figure\n",
    "f, ax = plt.subplots(figsize=(15, 5))\n",
    "sb.despine(bottom=True, left=True)\n",
    "\n",
    "iris2 = pd.melt(iris, \"species\", var_name=\"measurement\")\n",
    "        \n",
    "# Show each observation with a scatterplot\n",
    "sb.stripplot(x=\"value\", y=\"measurement\", hue=\"species\",\n",
    "             data=iris2, jitter=True, alpha=.5)\n",
    "\n",
    "# Show the conditional means\n",
    "sb.pointplot(x=\"value\", y=\"measurement\", hue=\"species\", data=iris2,\n",
    "             dodge=.5, join=False, palette=\"dark\", markers=\"d\", scale=.9, ci=None)\n",
    "\n",
    "# Improve the legend\n",
    "handles, labels = ax.get_legend_handles_labels()\n",
    "ax.legend(handles[3:], labels[3:], title=\"species\", handletextpad=0, columnspacing=1,\n",
    "          loc=\"lower right\", ncol=3, frameon=True)"
   ]
  },
  {
   "cell_type": "code",
   "execution_count": null,
   "metadata": {
    "ExecuteTime": {
     "end_time": "2018-12-06T16:10:39.560550Z",
     "start_time": "2018-12-06T16:10:39.535568Z"
    },
    "scrolled": true
   },
   "outputs": [],
   "source": [
    "flights_long = sb.load_dataset(\"flights\")\n",
    "flights_long"
   ]
  },
  {
   "cell_type": "code",
   "execution_count": null,
   "metadata": {
    "ExecuteTime": {
     "end_time": "2018-12-06T16:10:39.683928Z",
     "start_time": "2018-12-06T16:10:39.562768Z"
    }
   },
   "outputs": [],
   "source": [
    "flights = flights_long.pivot(\"month\", \"year\", \"passengers\")\n",
    "flights"
   ]
  },
  {
   "cell_type": "code",
   "execution_count": null,
   "metadata": {
    "ExecuteTime": {
     "end_time": "2018-12-06T16:10:40.271804Z",
     "start_time": "2018-12-06T16:10:39.686476Z"
    }
   },
   "outputs": [],
   "source": [
    "f, ax = plt.subplots(figsize=(9, 6))\n",
    "sb.heatmap(flights, annot=True, fmt=\"d\", linewidths=.5, ax=ax)"
   ]
  },
  {
   "cell_type": "code",
   "execution_count": null,
   "metadata": {
    "ExecuteTime": {
     "end_time": "2018-12-06T16:10:40.648847Z",
     "start_time": "2018-12-06T16:10:40.273798Z"
    }
   },
   "outputs": [],
   "source": [
    "from string import ascii_letters\n",
    "\n",
    "sb.set(style=\"white\")\n",
    "\n",
    "# Generate a large random dataset\n",
    "rs = np.random.RandomState(33)\n",
    "d = pd.DataFrame(data=rs.normal(size=(100, 26)), columns=list(ascii_letters[26:]))\n",
    "\n",
    "# Compute the correlation matrix\n",
    "corr = d.corr()\n",
    "\n",
    "# Generate a mask for the upper triangle\n",
    "mask = np.zeros_like(corr, dtype=np.bool)\n",
    "mask[np.triu_indices_from(mask)] = True\n",
    "\n",
    "# Set up the matplotlib figure\n",
    "f, ax = plt.subplots(figsize=(11, 9))\n",
    "\n",
    "# Generate a custom diverging colormap\n",
    "cmap = sb.diverging_palette(220, 10, as_cmap=True)\n",
    "\n",
    "# Draw the heatmap with the mask and correct aspect ratio\n",
    "sb.heatmap(corr, mask=mask, cmap=cmap, vmax=.3, center=0, square=True, linewidths=.5, cbar_kws={\"shrink\": .5})"
   ]
  },
  {
   "cell_type": "code",
   "execution_count": null,
   "metadata": {
    "ExecuteTime": {
     "end_time": "2018-12-06T16:10:40.779704Z",
     "start_time": "2018-12-06T16:10:40.651015Z"
    },
    "scrolled": true
   },
   "outputs": [],
   "source": [
    "brain_networks = sb.load_dataset(\"brain_networks\", header=[0, 1, 2], index_col=0)\n",
    "used_networks = [1, 5, 6, 7, 8, 12, 13, 17]\n",
    "used_columns = (brain_networks.columns.get_level_values(\"network\").astype(int).isin(used_networks))\n",
    "brain_networks = brain_networks.loc[:, used_columns]\n",
    "brain_networks"
   ]
  },
  {
   "cell_type": "code",
   "execution_count": null,
   "metadata": {
    "ExecuteTime": {
     "end_time": "2018-12-06T16:10:41.541433Z",
     "start_time": "2018-12-06T16:10:40.781709Z"
    }
   },
   "outputs": [],
   "source": [
    "network_pal = sb.husl_palette(8, s=.45)\n",
    "network_lut = dict(zip(map(str, used_networks), network_pal))\n",
    "networks = brain_networks.columns.get_level_values(\"network\")\n",
    "network_colors = pd.Series(networks, index=brain_networks.columns).map(network_lut)\n",
    "\n",
    "sb.clustermap(brain_networks.corr(), center=0, cmap=\"BrBG\", \n",
    "              row_colors=network_colors, col_colors=network_colors, linewidths=.75, figsize=(13, 13))"
   ]
  },
  {
   "cell_type": "code",
   "execution_count": null,
   "metadata": {
    "ExecuteTime": {
     "end_time": "2018-12-06T16:10:41.741973Z",
     "start_time": "2018-12-06T16:10:41.542884Z"
    }
   },
   "outputs": [],
   "source": [
    "# Compute the correlation matrix and average over networks\n",
    "corr_df = brain_networks.corr().groupby(level=\"network\").mean()\n",
    "corr_df.index = corr_df.index.astype(int)\n",
    "corr_df = corr_df.sort_index().T\n",
    "\n",
    "# Set up the matplotlib figure\n",
    "f, ax = plt.subplots(figsize=(11, 6))\n",
    "\n",
    "# Draw a violinplot with a narrower bandwidth than the default\n",
    "sb.violinplot(data=corr_df, palette=\"Set3\", bw=.2, cut=1, linewidth=1)\n",
    "\n",
    "# Finalize the figure\n",
    "ax.set(ylim=(-.7, 1.05))\n",
    "sb.despine(left=True, bottom=True)"
   ]
  },
  {
   "cell_type": "code",
   "execution_count": null,
   "metadata": {
    "ExecuteTime": {
     "end_time": "2018-12-06T16:10:42.214023Z",
     "start_time": "2018-12-06T16:10:41.743502Z"
    }
   },
   "outputs": [],
   "source": [
    "# Generate an example radial datast\n",
    "r = np.linspace(0, 10, num=300)\n",
    "df = pd.DataFrame({'r': r, 'slow': r, 'medium': 2 * r, 'fast': 4 * r})\n",
    "\n",
    "# Convert the dataframe to long-form or \"tidy\" format\n",
    "df = pd.melt(df, id_vars=['r'], var_name='speed', value_name='theta')\n",
    "\n",
    "# Set up a grid of axes with a polar projection\n",
    "g = sb.FacetGrid(df, col=\"speed\", hue=\"speed\", subplot_kws=dict(projection='polar'), size=4.5, sharex=False, sharey=False, despine=False)\n",
    "\n",
    "# Draw a scatterplot onto each axes in the grid\n",
    "g.map(plt.scatter, \"theta\", \"r\")"
   ]
  },
  {
   "cell_type": "code",
   "execution_count": null,
   "metadata": {
    "ExecuteTime": {
     "end_time": "2018-12-06T16:10:42.258007Z",
     "start_time": "2018-12-06T16:10:42.215593Z"
    },
    "scrolled": true
   },
   "outputs": [],
   "source": [
    "gammas = sb.load_dataset(\"gammas\")\n",
    "gammas"
   ]
  },
  {
   "cell_type": "code",
   "execution_count": null,
   "metadata": {
    "ExecuteTime": {
     "end_time": "2018-12-06T16:10:42.924846Z",
     "start_time": "2018-12-06T16:10:42.260530Z"
    }
   },
   "outputs": [],
   "source": [
    "sb.tsplot(data=gammas, time=\"timepoint\", unit=\"subject\", condition=\"ROI\", value=\"BOLD signal\")"
   ]
  },
  {
   "cell_type": "code",
   "execution_count": null,
   "metadata": {
    "ExecuteTime": {
     "end_time": "2018-12-06T16:10:43.649477Z",
     "start_time": "2018-12-06T16:10:42.926354Z"
    }
   },
   "outputs": [],
   "source": [
    "sines = []\n",
    "rs = np.random.RandomState(8)\n",
    "for _ in range(15):\n",
    "    x = np.linspace(0, 30 / 2, 30)\n",
    "    y = np.sin(x) + rs.normal(0, 1.5) + rs.normal(0, .3, 30)\n",
    "    sines.append(y)\n",
    "\n",
    "# Plot the average over replicates with bootstrap resamples\n",
    "sb.tsplot(sines, err_style=\"boot_traces\", n_boot=500)"
   ]
  },
  {
   "cell_type": "code",
   "execution_count": null,
   "metadata": {},
   "outputs": [],
   "source": []
  }
 ],
 "metadata": {
  "kernelspec": {
   "display_name": "Python 3",
   "language": "python",
   "name": "python3"
  },
  "language_info": {
   "codemirror_mode": {
    "name": "ipython",
    "version": 3
   },
   "file_extension": ".py",
   "mimetype": "text/x-python",
   "name": "python",
   "nbconvert_exporter": "python",
   "pygments_lexer": "ipython3",
   "version": "3.7.2"
  },
  "toc": {
   "base_numbering": 1,
   "nav_menu": {},
   "number_sections": true,
   "sideBar": true,
   "skip_h1_title": false,
   "title_cell": "Table of Contents",
   "title_sidebar": "Contents",
   "toc_cell": false,
   "toc_position": {},
   "toc_section_display": true,
   "toc_window_display": true
  }
 },
 "nbformat": 4,
 "nbformat_minor": 2
}
